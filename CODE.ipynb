{
 "cells": [
  {
   "cell_type": "markdown",
   "metadata": {
    "execution": {
     "iopub.execute_input": "2022-05-09T23:05:31.933968Z",
     "iopub.status.busy": "2022-05-09T23:05:31.933604Z",
     "iopub.status.idle": "2022-05-09T23:05:31.938492Z",
     "shell.execute_reply": "2022-05-09T23:05:31.937529Z",
     "shell.execute_reply.started": "2022-05-09T23:05:31.933935Z"
    }
   },
   "source": [
    "\n",
    "Dataset Description\n",
    "train.csv: A full training dataset with the following attributes:\n",
    "id: unique id for a news article\n",
    "title: the title of a news article\n",
    "author: author of the news article\n",
    "text: the text of the article; could be incomplete\n",
    "label: a label that marks the article as potentially unreliable\n",
    "1: unreliable\n",
    "0: reliable\n",
    "test.csv: A testing training dataset with all the same attributes at train.csv without the label."
   ]
  },
  {
   "cell_type": "code",
   "execution_count": 48,
   "metadata": {},
   "outputs": [],
   "source": [
    "import pandas as pd\n",
    "import matplotlib.pyplot as plt\n",
    "import tensorflow as tf\n",
    "from tensorflow.keras.layers import Embedding\n",
    "from tensorflow.keras.preprocessing.sequence import pad_sequences\n",
    "from tensorflow.keras.models import Sequential\n",
    "from tensorflow.keras.preprocessing.text import one_hot\n",
    "from tensorflow.keras.layers import LSTM\n",
    "from tensorflow.keras.layers import Dense\n",
    "import nltk\n",
    "import re\n",
    "from nltk.corpus import stopwords\n",
    "from nltk.stem.porter import PorterStemmer\n",
    "from sklearn import metrics\n",
    "import itertools\n",
    "from sklearn.metrics import classification_report"
   ]
  },
  {
   "cell_type": "code",
   "execution_count": 36,
   "metadata": {
    "execution": {
     "iopub.execute_input": "2022-05-09T23:05:32.012491Z",
     "iopub.status.busy": "2022-05-09T23:05:32.012165Z",
     "iopub.status.idle": "2022-05-09T23:05:33.755704Z",
     "shell.execute_reply": "2022-05-09T23:05:33.754583Z",
     "shell.execute_reply.started": "2022-05-09T23:05:32.012458Z"
    }
   },
   "outputs": [],
   "source": [
    "data=pd.read_csv('C:/Users/bandl/Downloads/fake_news/train.csv')\n"
   ]
  },
  {
   "cell_type": "code",
   "execution_count": 3,
   "metadata": {
    "execution": {
     "iopub.execute_input": "2022-05-09T23:05:33.758341Z",
     "iopub.status.busy": "2022-05-09T23:05:33.757920Z",
     "iopub.status.idle": "2022-05-09T23:05:33.777576Z",
     "shell.execute_reply": "2022-05-09T23:05:33.776412Z",
     "shell.execute_reply.started": "2022-05-09T23:05:33.758304Z"
    }
   },
   "outputs": [
    {
     "data": {
      "text/html": [
       "<div>\n",
       "<style scoped>\n",
       "    .dataframe tbody tr th:only-of-type {\n",
       "        vertical-align: middle;\n",
       "    }\n",
       "\n",
       "    .dataframe tbody tr th {\n",
       "        vertical-align: top;\n",
       "    }\n",
       "\n",
       "    .dataframe thead th {\n",
       "        text-align: right;\n",
       "    }\n",
       "</style>\n",
       "<table border=\"1\" class=\"dataframe\">\n",
       "  <thead>\n",
       "    <tr style=\"text-align: right;\">\n",
       "      <th></th>\n",
       "      <th>id</th>\n",
       "      <th>title</th>\n",
       "      <th>author</th>\n",
       "      <th>text</th>\n",
       "      <th>label</th>\n",
       "    </tr>\n",
       "  </thead>\n",
       "  <tbody>\n",
       "    <tr>\n",
       "      <th>0</th>\n",
       "      <td>0</td>\n",
       "      <td>House Dem Aide: We Didn’t Even See Comey’s Let...</td>\n",
       "      <td>Darrell Lucus</td>\n",
       "      <td>House Dem Aide: We Didn’t Even See Comey’s Let...</td>\n",
       "      <td>1</td>\n",
       "    </tr>\n",
       "    <tr>\n",
       "      <th>1</th>\n",
       "      <td>1</td>\n",
       "      <td>FLYNN: Hillary Clinton, Big Woman on Campus - ...</td>\n",
       "      <td>Daniel J. Flynn</td>\n",
       "      <td>Ever get the feeling your life circles the rou...</td>\n",
       "      <td>0</td>\n",
       "    </tr>\n",
       "    <tr>\n",
       "      <th>2</th>\n",
       "      <td>2</td>\n",
       "      <td>Why the Truth Might Get You Fired</td>\n",
       "      <td>Consortiumnews.com</td>\n",
       "      <td>Why the Truth Might Get You Fired October 29, ...</td>\n",
       "      <td>1</td>\n",
       "    </tr>\n",
       "    <tr>\n",
       "      <th>3</th>\n",
       "      <td>3</td>\n",
       "      <td>15 Civilians Killed In Single US Airstrike Hav...</td>\n",
       "      <td>Jessica Purkiss</td>\n",
       "      <td>Videos 15 Civilians Killed In Single US Airstr...</td>\n",
       "      <td>1</td>\n",
       "    </tr>\n",
       "    <tr>\n",
       "      <th>4</th>\n",
       "      <td>4</td>\n",
       "      <td>Iranian woman jailed for fictional unpublished...</td>\n",
       "      <td>Howard Portnoy</td>\n",
       "      <td>Print \\nAn Iranian woman has been sentenced to...</td>\n",
       "      <td>1</td>\n",
       "    </tr>\n",
       "  </tbody>\n",
       "</table>\n",
       "</div>"
      ],
      "text/plain": [
       "   id                                              title              author  \\\n",
       "0   0  House Dem Aide: We Didn’t Even See Comey’s Let...       Darrell Lucus   \n",
       "1   1  FLYNN: Hillary Clinton, Big Woman on Campus - ...     Daniel J. Flynn   \n",
       "2   2                  Why the Truth Might Get You Fired  Consortiumnews.com   \n",
       "3   3  15 Civilians Killed In Single US Airstrike Hav...     Jessica Purkiss   \n",
       "4   4  Iranian woman jailed for fictional unpublished...      Howard Portnoy   \n",
       "\n",
       "                                                text  label  \n",
       "0  House Dem Aide: We Didn’t Even See Comey’s Let...      1  \n",
       "1  Ever get the feeling your life circles the rou...      0  \n",
       "2  Why the Truth Might Get You Fired October 29, ...      1  \n",
       "3  Videos 15 Civilians Killed In Single US Airstr...      1  \n",
       "4  Print \\nAn Iranian woman has been sentenced to...      1  "
      ]
     },
     "execution_count": 3,
     "metadata": {},
     "output_type": "execute_result"
    }
   ],
   "source": [
    "data.head()"
   ]
  },
  {
   "cell_type": "code",
   "execution_count": 4,
   "metadata": {
    "execution": {
     "iopub.execute_input": "2022-05-09T23:05:33.779327Z",
     "iopub.status.busy": "2022-05-09T23:05:33.778972Z",
     "iopub.status.idle": "2022-05-09T23:05:33.794420Z",
     "shell.execute_reply": "2022-05-09T23:05:33.793350Z",
     "shell.execute_reply.started": "2022-05-09T23:05:33.779291Z"
    }
   },
   "outputs": [
    {
     "data": {
      "text/plain": [
       "id           0\n",
       "title      558\n",
       "author    1957\n",
       "text        39\n",
       "label        0\n",
       "dtype: int64"
      ]
     },
     "execution_count": 4,
     "metadata": {},
     "output_type": "execute_result"
    }
   ],
   "source": [
    "#Null Value Check\n",
    "data.isnull().sum()"
   ]
  },
  {
   "cell_type": "code",
   "execution_count": 5,
   "metadata": {
    "execution": {
     "iopub.execute_input": "2022-05-09T23:05:33.796777Z",
     "iopub.status.busy": "2022-05-09T23:05:33.796304Z",
     "iopub.status.idle": "2022-05-09T23:05:33.802781Z",
     "shell.execute_reply": "2022-05-09T23:05:33.801809Z",
     "shell.execute_reply.started": "2022-05-09T23:05:33.796738Z"
    }
   },
   "outputs": [
    {
     "data": {
      "text/plain": [
       "(20800, 5)"
      ]
     },
     "execution_count": 5,
     "metadata": {},
     "output_type": "execute_result"
    }
   ],
   "source": [
    "#Shape Of The DAtaset\n",
    "data.shape"
   ]
  },
  {
   "cell_type": "code",
   "execution_count": 6,
   "metadata": {
    "execution": {
     "iopub.execute_input": "2022-05-09T23:05:33.807179Z",
     "iopub.status.busy": "2022-05-09T23:05:33.806911Z",
     "iopub.status.idle": "2022-05-09T23:05:33.818709Z",
     "shell.execute_reply": "2022-05-09T23:05:33.817798Z",
     "shell.execute_reply.started": "2022-05-09T23:05:33.807154Z"
    }
   },
   "outputs": [],
   "source": [
    "#using only title column dropping others\n",
    "data=data.drop(['text','author','id'],axis=1)"
   ]
  },
  {
   "cell_type": "code",
   "execution_count": 7,
   "metadata": {
    "execution": {
     "iopub.execute_input": "2022-05-09T23:05:33.823361Z",
     "iopub.status.busy": "2022-05-09T23:05:33.823124Z",
     "iopub.status.idle": "2022-05-09T23:05:33.834959Z",
     "shell.execute_reply": "2022-05-09T23:05:33.834231Z",
     "shell.execute_reply.started": "2022-05-09T23:05:33.823337Z"
    }
   },
   "outputs": [
    {
     "data": {
      "text/plain": [
       "title    558\n",
       "label      0\n",
       "dtype: int64"
      ]
     },
     "execution_count": 7,
     "metadata": {},
     "output_type": "execute_result"
    }
   ],
   "source": [
    "\n",
    "data.isnull().sum()"
   ]
  },
  {
   "cell_type": "code",
   "execution_count": 8,
   "metadata": {
    "execution": {
     "iopub.execute_input": "2022-05-09T23:05:33.837139Z",
     "iopub.status.busy": "2022-05-09T23:05:33.836429Z",
     "iopub.status.idle": "2022-05-09T23:05:33.848468Z",
     "shell.execute_reply": "2022-05-09T23:05:33.847591Z",
     "shell.execute_reply.started": "2022-05-09T23:05:33.837095Z"
    }
   },
   "outputs": [],
   "source": [
    "#Dropping NaN VAlues\n",
    "data=data.dropna()"
   ]
  },
  {
   "cell_type": "code",
   "execution_count": 9,
   "metadata": {
    "execution": {
     "iopub.execute_input": "2022-05-09T23:05:33.850895Z",
     "iopub.status.busy": "2022-05-09T23:05:33.850334Z",
     "iopub.status.idle": "2022-05-09T23:05:33.861464Z",
     "shell.execute_reply": "2022-05-09T23:05:33.860651Z",
     "shell.execute_reply.started": "2022-05-09T23:05:33.850857Z"
    }
   },
   "outputs": [
    {
     "data": {
      "text/plain": [
       "title    0\n",
       "label    0\n",
       "dtype: int64"
      ]
     },
     "execution_count": 9,
     "metadata": {},
     "output_type": "execute_result"
    }
   ],
   "source": [
    "data.isnull().sum()"
   ]
  },
  {
   "cell_type": "code",
   "execution_count": 10,
   "metadata": {
    "execution": {
     "iopub.execute_input": "2022-05-09T23:05:33.863252Z",
     "iopub.status.busy": "2022-05-09T23:05:33.862858Z",
     "iopub.status.idle": "2022-05-09T23:05:33.870959Z",
     "shell.execute_reply": "2022-05-09T23:05:33.869985Z",
     "shell.execute_reply.started": "2022-05-09T23:05:33.863213Z"
    }
   },
   "outputs": [
    {
     "data": {
      "text/plain": [
       "(20242, 2)"
      ]
     },
     "execution_count": 10,
     "metadata": {},
     "output_type": "execute_result"
    }
   ],
   "source": [
    "data.shape"
   ]
  },
  {
   "cell_type": "code",
   "execution_count": 11,
   "metadata": {
    "execution": {
     "iopub.execute_input": "2022-05-09T23:05:33.873407Z",
     "iopub.status.busy": "2022-05-09T23:05:33.872882Z",
     "iopub.status.idle": "2022-05-09T23:05:33.884045Z",
     "shell.execute_reply": "2022-05-09T23:05:33.882961Z",
     "shell.execute_reply.started": "2022-05-09T23:05:33.873365Z"
    }
   },
   "outputs": [
    {
     "data": {
      "text/html": [
       "<div>\n",
       "<style scoped>\n",
       "    .dataframe tbody tr th:only-of-type {\n",
       "        vertical-align: middle;\n",
       "    }\n",
       "\n",
       "    .dataframe tbody tr th {\n",
       "        vertical-align: top;\n",
       "    }\n",
       "\n",
       "    .dataframe thead th {\n",
       "        text-align: right;\n",
       "    }\n",
       "</style>\n",
       "<table border=\"1\" class=\"dataframe\">\n",
       "  <thead>\n",
       "    <tr style=\"text-align: right;\">\n",
       "      <th></th>\n",
       "      <th>title</th>\n",
       "      <th>label</th>\n",
       "    </tr>\n",
       "  </thead>\n",
       "  <tbody>\n",
       "    <tr>\n",
       "      <th>0</th>\n",
       "      <td>House Dem Aide: We Didn’t Even See Comey’s Let...</td>\n",
       "      <td>1</td>\n",
       "    </tr>\n",
       "    <tr>\n",
       "      <th>1</th>\n",
       "      <td>FLYNN: Hillary Clinton, Big Woman on Campus - ...</td>\n",
       "      <td>0</td>\n",
       "    </tr>\n",
       "    <tr>\n",
       "      <th>2</th>\n",
       "      <td>Why the Truth Might Get You Fired</td>\n",
       "      <td>1</td>\n",
       "    </tr>\n",
       "    <tr>\n",
       "      <th>3</th>\n",
       "      <td>15 Civilians Killed In Single US Airstrike Hav...</td>\n",
       "      <td>1</td>\n",
       "    </tr>\n",
       "    <tr>\n",
       "      <th>4</th>\n",
       "      <td>Iranian woman jailed for fictional unpublished...</td>\n",
       "      <td>1</td>\n",
       "    </tr>\n",
       "  </tbody>\n",
       "</table>\n",
       "</div>"
      ],
      "text/plain": [
       "                                               title  label\n",
       "0  House Dem Aide: We Didn’t Even See Comey’s Let...      1\n",
       "1  FLYNN: Hillary Clinton, Big Woman on Campus - ...      0\n",
       "2                  Why the Truth Might Get You Fired      1\n",
       "3  15 Civilians Killed In Single US Airstrike Hav...      1\n",
       "4  Iranian woman jailed for fictional unpublished...      1"
      ]
     },
     "execution_count": 11,
     "metadata": {},
     "output_type": "execute_result"
    }
   ],
   "source": [
    "data.head()"
   ]
  },
  {
   "cell_type": "code",
   "execution_count": 12,
   "metadata": {
    "execution": {
     "iopub.execute_input": "2022-05-09T23:05:33.886212Z",
     "iopub.status.busy": "2022-05-09T23:05:33.885792Z",
     "iopub.status.idle": "2022-05-09T23:05:33.892913Z",
     "shell.execute_reply": "2022-05-09T23:05:33.891955Z",
     "shell.execute_reply.started": "2022-05-09T23:05:33.886176Z"
    }
   },
   "outputs": [],
   "source": [
    "X=data['title']\n",
    "y=data['label']"
   ]
  },
  {
   "cell_type": "code",
   "execution_count": 13,
   "metadata": {
    "execution": {
     "iopub.execute_input": "2022-05-09T23:05:33.895167Z",
     "iopub.status.busy": "2022-05-09T23:05:33.894758Z",
     "iopub.status.idle": "2022-05-09T23:05:33.903530Z",
     "shell.execute_reply": "2022-05-09T23:05:33.902319Z",
     "shell.execute_reply.started": "2022-05-09T23:05:33.895129Z"
    }
   },
   "outputs": [
    {
     "data": {
      "text/plain": [
       "(20242,)"
      ]
     },
     "execution_count": 13,
     "metadata": {},
     "output_type": "execute_result"
    }
   ],
   "source": [
    "X.shape"
   ]
  },
  {
   "cell_type": "code",
   "execution_count": 14,
   "metadata": {
    "execution": {
     "iopub.execute_input": "2022-05-09T23:05:38.998693Z",
     "iopub.status.busy": "2022-05-09T23:05:38.998416Z",
     "iopub.status.idle": "2022-05-09T23:05:39.007178Z",
     "shell.execute_reply": "2022-05-09T23:05:39.006168Z",
     "shell.execute_reply.started": "2022-05-09T23:05:38.998664Z"
    }
   },
   "outputs": [],
   "source": [
    "#dropped some nan values,reset index makes them uniform\n",
    "X=X.reset_index()"
   ]
  },
  {
   "cell_type": "code",
   "execution_count": 15,
   "metadata": {
    "execution": {
     "iopub.execute_input": "2022-05-09T23:05:39.010814Z",
     "iopub.status.busy": "2022-05-09T23:05:39.010468Z",
     "iopub.status.idle": "2022-05-09T23:05:39.018632Z",
     "shell.execute_reply": "2022-05-09T23:05:39.017915Z",
     "shell.execute_reply.started": "2022-05-09T23:05:39.010773Z"
    }
   },
   "outputs": [],
   "source": [
    "X=X.drop(['index'],axis=1)"
   ]
  },
  {
   "cell_type": "code",
   "execution_count": 16,
   "metadata": {
    "execution": {
     "iopub.execute_input": "2022-05-09T23:05:39.022101Z",
     "iopub.status.busy": "2022-05-09T23:05:39.021780Z",
     "iopub.status.idle": "2022-05-09T23:05:39.033440Z",
     "shell.execute_reply": "2022-05-09T23:05:39.032109Z",
     "shell.execute_reply.started": "2022-05-09T23:05:39.022074Z"
    }
   },
   "outputs": [
    {
     "data": {
      "text/html": [
       "<div>\n",
       "<style scoped>\n",
       "    .dataframe tbody tr th:only-of-type {\n",
       "        vertical-align: middle;\n",
       "    }\n",
       "\n",
       "    .dataframe tbody tr th {\n",
       "        vertical-align: top;\n",
       "    }\n",
       "\n",
       "    .dataframe thead th {\n",
       "        text-align: right;\n",
       "    }\n",
       "</style>\n",
       "<table border=\"1\" class=\"dataframe\">\n",
       "  <thead>\n",
       "    <tr style=\"text-align: right;\">\n",
       "      <th></th>\n",
       "      <th>title</th>\n",
       "    </tr>\n",
       "  </thead>\n",
       "  <tbody>\n",
       "    <tr>\n",
       "      <th>20237</th>\n",
       "      <td>Rapper T.I.: Trump a ’Poster Child For White S...</td>\n",
       "    </tr>\n",
       "    <tr>\n",
       "      <th>20238</th>\n",
       "      <td>N.F.L. Playoffs: Schedule, Matchups and Odds -...</td>\n",
       "    </tr>\n",
       "    <tr>\n",
       "      <th>20239</th>\n",
       "      <td>Macy’s Is Said to Receive Takeover Approach by...</td>\n",
       "    </tr>\n",
       "    <tr>\n",
       "      <th>20240</th>\n",
       "      <td>NATO, Russia To Hold Parallel Exercises In Bal...</td>\n",
       "    </tr>\n",
       "    <tr>\n",
       "      <th>20241</th>\n",
       "      <td>What Keeps the F-35 Alive</td>\n",
       "    </tr>\n",
       "  </tbody>\n",
       "</table>\n",
       "</div>"
      ],
      "text/plain": [
       "                                                   title\n",
       "20237  Rapper T.I.: Trump a ’Poster Child For White S...\n",
       "20238  N.F.L. Playoffs: Schedule, Matchups and Odds -...\n",
       "20239  Macy’s Is Said to Receive Takeover Approach by...\n",
       "20240  NATO, Russia To Hold Parallel Exercises In Bal...\n",
       "20241                          What Keeps the F-35 Alive"
      ]
     },
     "execution_count": 16,
     "metadata": {},
     "output_type": "execute_result"
    }
   ],
   "source": [
    "X.tail()"
   ]
  },
  {
   "cell_type": "code",
   "execution_count": 17,
   "metadata": {
    "execution": {
     "iopub.execute_input": "2022-05-09T23:05:39.035498Z",
     "iopub.status.busy": "2022-05-09T23:05:39.034902Z",
     "iopub.status.idle": "2022-05-09T23:05:39.042042Z",
     "shell.execute_reply": "2022-05-09T23:05:39.041228Z",
     "shell.execute_reply.started": "2022-05-09T23:05:39.035460Z"
    }
   },
   "outputs": [],
   "source": [
    "#as rows dropeed so to make the dataframe in order\n",
    "y=y.reset_index()"
   ]
  },
  {
   "cell_type": "code",
   "execution_count": 18,
   "metadata": {
    "execution": {
     "iopub.execute_input": "2022-05-09T23:05:39.044380Z",
     "iopub.status.busy": "2022-05-09T23:05:39.043668Z",
     "iopub.status.idle": "2022-05-09T23:05:39.051178Z",
     "shell.execute_reply": "2022-05-09T23:05:39.050443Z",
     "shell.execute_reply.started": "2022-05-09T23:05:39.044339Z"
    }
   },
   "outputs": [],
   "source": [
    "y=y.drop(['index'],axis=1)"
   ]
  },
  {
   "cell_type": "code",
   "execution_count": 19,
   "metadata": {
    "execution": {
     "iopub.execute_input": "2022-05-09T23:05:39.053515Z",
     "iopub.status.busy": "2022-05-09T23:05:39.052927Z",
     "iopub.status.idle": "2022-05-09T23:05:39.064492Z",
     "shell.execute_reply": "2022-05-09T23:05:39.063439Z",
     "shell.execute_reply.started": "2022-05-09T23:05:39.053476Z"
    }
   },
   "outputs": [
    {
     "data": {
      "text/html": [
       "<div>\n",
       "<style scoped>\n",
       "    .dataframe tbody tr th:only-of-type {\n",
       "        vertical-align: middle;\n",
       "    }\n",
       "\n",
       "    .dataframe tbody tr th {\n",
       "        vertical-align: top;\n",
       "    }\n",
       "\n",
       "    .dataframe thead th {\n",
       "        text-align: right;\n",
       "    }\n",
       "</style>\n",
       "<table border=\"1\" class=\"dataframe\">\n",
       "  <thead>\n",
       "    <tr style=\"text-align: right;\">\n",
       "      <th></th>\n",
       "      <th>label</th>\n",
       "    </tr>\n",
       "  </thead>\n",
       "  <tbody>\n",
       "    <tr>\n",
       "      <th>20237</th>\n",
       "      <td>0</td>\n",
       "    </tr>\n",
       "    <tr>\n",
       "      <th>20238</th>\n",
       "      <td>0</td>\n",
       "    </tr>\n",
       "    <tr>\n",
       "      <th>20239</th>\n",
       "      <td>0</td>\n",
       "    </tr>\n",
       "    <tr>\n",
       "      <th>20240</th>\n",
       "      <td>1</td>\n",
       "    </tr>\n",
       "    <tr>\n",
       "      <th>20241</th>\n",
       "      <td>1</td>\n",
       "    </tr>\n",
       "  </tbody>\n",
       "</table>\n",
       "</div>"
      ],
      "text/plain": [
       "       label\n",
       "20237      0\n",
       "20238      0\n",
       "20239      0\n",
       "20240      1\n",
       "20241      1"
      ]
     },
     "execution_count": 19,
     "metadata": {},
     "output_type": "execute_result"
    }
   ],
   "source": [
    "y.tail()"
   ]
  },
  {
   "cell_type": "code",
   "execution_count": 20,
   "metadata": {
    "execution": {
     "iopub.execute_input": "2022-05-09T23:05:40.212183Z",
     "iopub.status.busy": "2022-05-09T23:05:40.211685Z",
     "iopub.status.idle": "2022-05-09T23:06:17.768470Z",
     "shell.execute_reply": "2022-05-09T23:06:17.767675Z",
     "shell.execute_reply.started": "2022-05-09T23:05:40.212144Z"
    }
   },
   "outputs": [],
   "source": [
    "ps = PorterStemmer()\n",
    "corpus = []\n",
    "#each row of the dataset is considered here.everything except the alphabets are removed ,stopwords are also being removed here .the text is converted in lowercase letters and stemming is performed\n",
    "#lemmatisation can also be used here at the end a corpus of sentences is created\n",
    "for i in range(0, len(X)):\n",
    "    review = re.sub('[^a-zA-Z]', ' ',X['title'][i])\n",
    "    review = review.lower()\n",
    "    review = review.split()\n",
    "    \n",
    "    review = [ps.stem(word) for word in review if not word in stopwords.words('english')]\n",
    "    review = ' '.join(review)\n",
    "    corpus.append(review)"
   ]
  },
  {
   "cell_type": "code",
   "execution_count": 21,
   "metadata": {
    "execution": {
     "iopub.execute_input": "2022-05-09T23:06:17.770234Z",
     "iopub.status.busy": "2022-05-09T23:06:17.769896Z",
     "iopub.status.idle": "2022-05-09T23:06:17.778821Z",
     "shell.execute_reply": "2022-05-09T23:06:17.778128Z",
     "shell.execute_reply.started": "2022-05-09T23:06:17.770199Z"
    }
   },
   "outputs": [
    {
     "data": {
      "text/plain": [
       "'chuck todd buzzfe eic publish fake news breitbart'"
      ]
     },
     "execution_count": 21,
     "metadata": {},
     "output_type": "execute_result"
    }
   ],
   "source": [
    "corpus[30]"
   ]
  },
  {
   "cell_type": "code",
   "execution_count": 22,
   "metadata": {
    "execution": {
     "iopub.execute_input": "2022-05-09T23:06:17.780251Z",
     "iopub.status.busy": "2022-05-09T23:06:17.779890Z",
     "iopub.status.idle": "2022-05-09T23:06:17.785955Z",
     "shell.execute_reply": "2022-05-09T23:06:17.785013Z",
     "shell.execute_reply.started": "2022-05-09T23:06:17.780214Z"
    }
   },
   "outputs": [],
   "source": [
    "#vocabulary size\n",
    "voc_size=5000"
   ]
  },
  {
   "cell_type": "code",
   "execution_count": 23,
   "metadata": {
    "execution": {
     "iopub.execute_input": "2022-05-09T23:06:17.791004Z",
     "iopub.status.busy": "2022-05-09T23:06:17.790630Z",
     "iopub.status.idle": "2022-05-09T23:06:18.029221Z",
     "shell.execute_reply": "2022-05-09T23:06:18.028428Z",
     "shell.execute_reply.started": "2022-05-09T23:06:17.790976Z"
    }
   },
   "outputs": [],
   "source": [
    "#performing onr hot representation\n",
    "onehot_repr=[one_hot(words,voc_size)for words in corpus] "
   ]
  },
  {
   "cell_type": "code",
   "execution_count": 24,
   "metadata": {
    "execution": {
     "iopub.execute_input": "2022-05-09T23:06:18.031183Z",
     "iopub.status.busy": "2022-05-09T23:06:18.030812Z",
     "iopub.status.idle": "2022-05-09T23:06:18.036791Z",
     "shell.execute_reply": "2022-05-09T23:06:18.035951Z",
     "shell.execute_reply.started": "2022-05-09T23:06:18.031145Z"
    }
   },
   "outputs": [
    {
     "data": {
      "text/plain": [
       "10"
      ]
     },
     "execution_count": 24,
     "metadata": {},
     "output_type": "execute_result"
    }
   ],
   "source": [
    "len(onehot_repr[0])"
   ]
  },
  {
   "cell_type": "code",
   "execution_count": 25,
   "metadata": {
    "execution": {
     "iopub.execute_input": "2022-05-09T23:06:18.038984Z",
     "iopub.status.busy": "2022-05-09T23:06:18.038603Z",
     "iopub.status.idle": "2022-05-09T23:06:18.046684Z",
     "shell.execute_reply": "2022-05-09T23:06:18.045916Z",
     "shell.execute_reply.started": "2022-05-09T23:06:18.038942Z"
    }
   },
   "outputs": [
    {
     "data": {
      "text/plain": [
       "5"
      ]
     },
     "execution_count": 25,
     "metadata": {},
     "output_type": "execute_result"
    }
   ],
   "source": [
    "len(onehot_repr[700])"
   ]
  },
  {
   "cell_type": "code",
   "execution_count": 26,
   "metadata": {
    "execution": {
     "iopub.execute_input": "2022-05-09T23:06:18.048767Z",
     "iopub.status.busy": "2022-05-09T23:06:18.048076Z",
     "iopub.status.idle": "2022-05-09T23:06:18.197038Z",
     "shell.execute_reply": "2022-05-09T23:06:18.196096Z",
     "shell.execute_reply.started": "2022-05-09T23:06:18.048689Z"
    }
   },
   "outputs": [
    {
     "name": "stdout",
     "output_type": "stream",
     "text": [
      "[[   0    0    0 ... 4552 2664 4613]\n",
      " [   0    0    0 ... 2525 1896 4296]\n",
      " [   0    0    0 ... 3457 1212 4498]\n",
      " ...\n",
      " [   0    0    0 ... 3835  460 3210]\n",
      " [   0    0    0 ... 3427 2540 2561]\n",
      " [   0    0    0 ...  500 2058 4599]]\n"
     ]
    }
   ],
   "source": [
    "#specifying a sentence length so that every sentence in the corpus will be of same length\n",
    "sent_length=25\n",
    "#using padding for creating equal length sentences\n",
    "embedded_docs=pad_sequences(onehot_repr,padding='pre',maxlen=sent_length)\n",
    "print(embedded_docs)"
   ]
  },
  {
   "cell_type": "code",
   "execution_count": 27,
   "metadata": {
    "execution": {
     "iopub.execute_input": "2022-05-09T23:06:18.199226Z",
     "iopub.status.busy": "2022-05-09T23:06:18.198737Z",
     "iopub.status.idle": "2022-05-09T23:06:21.326136Z",
     "shell.execute_reply": "2022-05-09T23:06:21.325367Z",
     "shell.execute_reply.started": "2022-05-09T23:06:18.199185Z"
    }
   },
   "outputs": [],
   "source": [
    "#Creating model\n",
    "from tensorflow.keras.layers import Dropout\n",
    "embedding_vector_features=40\n",
    "model=Sequential()\n",
    "model.add(Embedding(voc_size,embedding_vector_features,input_length=sent_length))\n",
    "model.add(Dropout(0.3))\n",
    "model.add(LSTM(200))\n",
    "model.add(Dropout(0.3))\n",
    "model.add(Dense(1,activation='sigmoid'))\n",
    "model.compile(loss='binary_crossentropy',optimizer='adam',metrics=['accuracy'])\n"
   ]
  },
  {
   "cell_type": "code",
   "execution_count": 28,
   "metadata": {
    "execution": {
     "iopub.execute_input": "2022-05-09T23:06:21.327746Z",
     "iopub.status.busy": "2022-05-09T23:06:21.327397Z",
     "iopub.status.idle": "2022-05-09T23:06:21.334746Z",
     "shell.execute_reply": "2022-05-09T23:06:21.333757Z",
     "shell.execute_reply.started": "2022-05-09T23:06:21.327695Z"
    }
   },
   "outputs": [],
   "source": [
    "import numpy as np\n",
    "X_final=np.array(embedded_docs)\n",
    "y_final=np.array(y)"
   ]
  },
  {
   "cell_type": "code",
   "execution_count": 29,
   "metadata": {
    "execution": {
     "iopub.execute_input": "2022-05-09T23:06:21.336882Z",
     "iopub.status.busy": "2022-05-09T23:06:21.336279Z",
     "iopub.status.idle": "2022-05-09T23:06:21.345470Z",
     "shell.execute_reply": "2022-05-09T23:06:21.344680Z",
     "shell.execute_reply.started": "2022-05-09T23:06:21.336839Z"
    }
   },
   "outputs": [
    {
     "data": {
      "text/plain": [
       "((20242, 25), (20242, 1))"
      ]
     },
     "execution_count": 29,
     "metadata": {},
     "output_type": "execute_result"
    }
   ],
   "source": [
    "X_final.shape,y_final.shape"
   ]
  },
  {
   "cell_type": "code",
   "execution_count": 30,
   "metadata": {
    "execution": {
     "iopub.execute_input": "2022-05-09T23:06:21.347124Z",
     "iopub.status.busy": "2022-05-09T23:06:21.346756Z",
     "iopub.status.idle": "2022-05-09T23:06:21.358090Z",
     "shell.execute_reply": "2022-05-09T23:06:21.357287Z",
     "shell.execute_reply.started": "2022-05-09T23:06:21.347086Z"
    }
   },
   "outputs": [],
   "source": [
    "#splitting the data for training and testing the model\n",
    "\n",
    "from sklearn.model_selection import train_test_split\n",
    "X_train, X_test, y_train, y_test = train_test_split(X_final, y_final, test_size=0.10, random_state=42)"
   ]
  },
  {
   "cell_type": "code",
   "execution_count": 31,
   "metadata": {
    "execution": {
     "iopub.execute_input": "2022-05-09T23:08:13.107072Z",
     "iopub.status.busy": "2022-05-09T23:08:13.106709Z",
     "iopub.status.idle": "2022-05-09T23:08:55.421865Z",
     "shell.execute_reply": "2022-05-09T23:08:55.421158Z",
     "shell.execute_reply.started": "2022-05-09T23:08:13.107040Z"
    }
   },
   "outputs": [
    {
     "name": "stdout",
     "output_type": "stream",
     "text": [
      "Epoch 1/20\n",
      "285/285 [==============================] - 10s 28ms/step - loss: 0.2894 - accuracy: 0.8720 - val_loss: 0.1980 - val_accuracy: 0.9170\n",
      "Epoch 2/20\n",
      "285/285 [==============================] - 8s 27ms/step - loss: 0.1379 - accuracy: 0.9445 - val_loss: 0.1984 - val_accuracy: 0.9215\n",
      "Epoch 3/20\n",
      "285/285 [==============================] - 10s 35ms/step - loss: 0.1022 - accuracy: 0.9608 - val_loss: 0.2040 - val_accuracy: 0.9220\n",
      "Epoch 4/20\n",
      "285/285 [==============================] - 14s 48ms/step - loss: 0.0740 - accuracy: 0.9744 - val_loss: 0.2492 - val_accuracy: 0.9205\n",
      "Epoch 5/20\n",
      "285/285 [==============================] - 9s 33ms/step - loss: 0.0555 - accuracy: 0.9797 - val_loss: 0.2768 - val_accuracy: 0.9210\n",
      "Epoch 6/20\n",
      "285/285 [==============================] - 8s 28ms/step - loss: 0.0424 - accuracy: 0.9848 - val_loss: 0.2899 - val_accuracy: 0.9165\n",
      "Epoch 7/20\n",
      "285/285 [==============================] - 11s 38ms/step - loss: 0.0365 - accuracy: 0.9875 - val_loss: 0.3260 - val_accuracy: 0.9259\n",
      "Epoch 8/20\n",
      "285/285 [==============================] - 9s 31ms/step - loss: 0.0270 - accuracy: 0.9907 - val_loss: 0.3641 - val_accuracy: 0.9136\n",
      "Epoch 9/20\n",
      "285/285 [==============================] - 10s 36ms/step - loss: 0.0230 - accuracy: 0.9924 - val_loss: 0.3869 - val_accuracy: 0.9180\n",
      "Epoch 10/20\n",
      "285/285 [==============================] - 14s 48ms/step - loss: 0.0173 - accuracy: 0.9943 - val_loss: 0.3913 - val_accuracy: 0.9146\n",
      "Epoch 11/20\n",
      "285/285 [==============================] - 9s 30ms/step - loss: 0.0135 - accuracy: 0.9957 - val_loss: 0.4415 - val_accuracy: 0.9175\n",
      "Epoch 12/20\n",
      "285/285 [==============================] - 8s 30ms/step - loss: 0.0122 - accuracy: 0.9960 - val_loss: 0.4913 - val_accuracy: 0.9116\n",
      "Epoch 13/20\n",
      "285/285 [==============================] - 8s 29ms/step - loss: 0.0126 - accuracy: 0.9956 - val_loss: 0.4857 - val_accuracy: 0.9165\n",
      "Epoch 14/20\n",
      "285/285 [==============================] - 8s 29ms/step - loss: 0.0114 - accuracy: 0.9959 - val_loss: 0.5694 - val_accuracy: 0.9002\n",
      "Epoch 15/20\n",
      "285/285 [==============================] - 8s 30ms/step - loss: 0.0099 - accuracy: 0.9969 - val_loss: 0.5102 - val_accuracy: 0.9121\n",
      "Epoch 16/20\n",
      "285/285 [==============================] - 9s 30ms/step - loss: 0.0093 - accuracy: 0.9968 - val_loss: 0.5386 - val_accuracy: 0.9086\n",
      "Epoch 17/20\n",
      "285/285 [==============================] - 8s 30ms/step - loss: 0.0092 - accuracy: 0.9975 - val_loss: 0.5426 - val_accuracy: 0.9141\n",
      "Epoch 18/20\n",
      "285/285 [==============================] - 8s 30ms/step - loss: 0.0082 - accuracy: 0.9974 - val_loss: 0.5387 - val_accuracy: 0.9190\n",
      "Epoch 19/20\n",
      "285/285 [==============================] - 9s 30ms/step - loss: 0.0072 - accuracy: 0.9978 - val_loss: 0.5496 - val_accuracy: 0.9131\n",
      "Epoch 20/20\n",
      "285/285 [==============================] - 8s 30ms/step - loss: 0.0062 - accuracy: 0.9979 - val_loss: 0.5614 - val_accuracy: 0.9156\n"
     ]
    },
    {
     "data": {
      "text/plain": [
       "<keras.callbacks.History at 0x292ec12dc10>"
      ]
     },
     "execution_count": 31,
     "metadata": {},
     "output_type": "execute_result"
    }
   ],
   "source": [
    "model.fit(X_train,y_train,validation_data=(X_test,y_test),epochs=20,batch_size=64)"
   ]
  },
  {
   "cell_type": "code",
   "execution_count": 32,
   "metadata": {
    "execution": {
     "iopub.execute_input": "2022-05-09T23:08:55.424674Z",
     "iopub.status.busy": "2022-05-09T23:08:55.424095Z",
     "iopub.status.idle": "2022-05-09T23:08:55.544353Z",
     "shell.execute_reply": "2022-05-09T23:08:55.543476Z",
     "shell.execute_reply.started": "2022-05-09T23:08:55.424635Z"
    }
   },
   "outputs": [],
   "source": [
    "classes_x = (model.predict(X_test) > 0.5).astype(\"int32\")"
   ]
  },
  {
   "cell_type": "code",
   "execution_count": 33,
   "metadata": {
    "execution": {
     "iopub.execute_input": "2022-05-09T23:08:55.546168Z",
     "iopub.status.busy": "2022-05-09T23:08:55.545774Z",
     "iopub.status.idle": "2022-05-09T23:08:55.558571Z",
     "shell.execute_reply": "2022-05-09T23:08:55.557629Z",
     "shell.execute_reply.started": "2022-05-09T23:08:55.546128Z"
    }
   },
   "outputs": [
    {
     "data": {
      "text/plain": [
       "array([[910, 108],\n",
       "       [ 63, 944]], dtype=int64)"
      ]
     },
     "execution_count": 33,
     "metadata": {},
     "output_type": "execute_result"
    }
   ],
   "source": [
    "from sklearn.metrics import confusion_matrix\n",
    "confusion_matrix(y_test, classes_x)"
   ]
  },
  {
   "cell_type": "code",
   "execution_count": 34,
   "metadata": {
    "execution": {
     "iopub.execute_input": "2022-05-09T23:08:55.560834Z",
     "iopub.status.busy": "2022-05-09T23:08:55.560422Z",
     "iopub.status.idle": "2022-05-09T23:08:55.568344Z",
     "shell.execute_reply": "2022-05-09T23:08:55.567309Z",
     "shell.execute_reply.started": "2022-05-09T23:08:55.560793Z"
    }
   },
   "outputs": [
    {
     "data": {
      "text/plain": [
       "0.9155555555555556"
      ]
     },
     "execution_count": 34,
     "metadata": {},
     "output_type": "execute_result"
    }
   ],
   "source": [
    "from sklearn.metrics import accuracy_score\n",
    "accuracy_score(y_test,classes_x)"
   ]
  },
  {
   "cell_type": "code",
   "execution_count": 45,
   "metadata": {},
   "outputs": [],
   "source": [
    "# Function to plot confusion Matrix\n",
    "def plot_confusion_matrix(cm, \n",
    "                          classes,\n",
    "                          normalize=False,\n",
    "                          title='Confusion Matrix',\n",
    "                          cmap=plt.cm.Blues):\n",
    "  plt.imshow(cm, interpolation='nearest', cmap=cmap)\n",
    "  plt.title(title)\n",
    "  plt.colorbar()\n",
    "  tick_marks = np.arange(len(classes))\n",
    "  plt.xticks(tick_marks, classes, rotation=45)\n",
    "  plt.yticks(tick_marks, classes)\n",
    "  \n",
    "  if normalize:\n",
    "    cm = cm.astype('float') / cm.sum(axis=1)[:, np.newaxis]\n",
    "    print(\"Normalized confusion matrix\")\n",
    "  else:\n",
    "      print('Confusion matrix, without normalization')\n",
    "  thresh = cm.max() / 2.\n",
    "  for i, j in itertools.product(range(cm.shape[0]), range(cm.shape[1])):\n",
    "      plt.text(j, i, cm[i, j],horizontalalignment=\"center\",color=\"white\" if cm[i, j] > thresh else \"black\")\n",
    "  plt.tight_layout()\n",
    "  plt.ylabel('True label')\n",
    "  plt.xlabel('Predicted label')"
   ]
  },
  {
   "cell_type": "code",
   "execution_count": 46,
   "metadata": {},
   "outputs": [
    {
     "name": "stdout",
     "output_type": "stream",
     "text": [
      "Confusion matrix, without normalization\n"
     ]
    },
    {
     "data": {
      "image/png": "[encoded data removed]",
      "text/plain": [
       "<Figure size 432x288 with 2 Axes>"
      ]
     },
     "metadata": {
      "needs_background": "light"
     },
     "output_type": "display_data"
    }
   ],
   "source": [
    "cm = metrics.confusion_matrix(y_test, classes_x)\n",
    "plot_confusion_matrix(cm, classes=['Fake', 'Real'])"
   ]
  },
  {
   "cell_type": "code",
   "execution_count": 49,
   "metadata": {},
   "outputs": [
    {
     "data": {
      "text/plain": [
       "'              precision    recall  f1-score   support\\n\\n           0       0.94      0.89      0.91      1018\\n           1       0.90      0.94      0.92      1007\\n\\n    accuracy                           0.92      2025\\n   macro avg       0.92      0.92      0.92      2025\\nweighted avg       0.92      0.92      0.92      2025\\n'"
      ]
     },
     "execution_count": 49,
     "metadata": {},
     "output_type": "execute_result"
    }
   ],
   "source": [
    "classification_report(y_test, classes_x)"
   ]
  },
  {
   "cell_type": "code",
   "execution_count": null,
   "metadata": {},
   "outputs": [],
   "source": []
  }
 ],
 "metadata": {
  "kernelspec": {
   "display_name": "Python 3 (ipykernel)",
   "language": "python",
   "name": "python3"
  },
  "language_info": {
   "codemirror_mode": {
    "name": "ipython",
    "version": 3
   },
   "file_extension": ".py",
   "mimetype": "text/x-python",
   "name": "python",
   "nbconvert_exporter": "python",
   "pygments_lexer": "ipython3",
   "version": "3.9.7"
  }
 },
 "nbformat": 4,
 "nbformat_minor": 4
}
